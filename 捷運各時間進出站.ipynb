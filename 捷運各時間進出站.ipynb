{
 "cells": [
  {
   "cell_type": "code",
   "execution_count": 3,
   "id": "65f53643-29c1-418d-b52f-7b148d0b7970",
   "metadata": {},
   "outputs": [
    {
     "name": "stdout",
     "output_type": "stream",
     "text": [
      "                 日期  時段    進站    出站  人次\n",
      "0        2017-01-01   0  松山機場  松山機場   0\n",
      "1        2017-01-01   0  松山機場  中山國中   0\n",
      "2        2017-01-01   0  松山機場  南京復興   0\n",
      "3        2017-01-01   0  松山機場  忠孝復興   0\n",
      "4        2017-01-01   0  松山機場    大安   0\n",
      "...             ...  ..   ...   ...  ..\n",
      "7581595  2017-01-31  23    丹鳳  徐匯中學   2\n",
      "7581596  2017-01-31  23    丹鳳  三和國中   1\n",
      "7581597  2017-01-31  23    丹鳳  三重國小   4\n",
      "7581598  2017-01-31  23    丹鳳    迴龍   0\n",
      "7581599  2017-01-31  23    丹鳳    丹鳳   2\n",
      "\n",
      "[7581600 rows x 5 columns]\n"
     ]
    }
   ],
   "source": [
    "import pandas as pd\n",
    "# http://tcgmetro.blob.core.windows.net/stationod/%E8%87%BA%E5%8C%97%E6%8D%B7%E9%81%8B%E6%AF%8F%E6%97%A5%E5%88%86%E6%99%82%E5%90%84%E7%AB%99OD%E6%B5%81%E9%87%8F%E7%B5%B1%E8%A8%88%E8%B3%87%E6%96%99_201701.csv\n",
    "df = pd.read_csv(\"201701.csv\")\n",
    "print(df)"
   ]
  },
  {
   "cell_type": "code",
   "execution_count": 7,
   "id": "203bbb15-2c0e-433a-b3ac-840c988522ee",
   "metadata": {},
   "outputs": [
    {
     "name": "stdout",
     "output_type": "stream",
     "text": [
      "出站\n",
      "BL板橋    1208435\n",
      "七張       446348\n",
      "三和國中     322093\n",
      "三民高中     352052\n",
      "三重       129165\n",
      "         ...   \n",
      "頂埔       210898\n",
      "頂溪      1033626\n",
      "頭前庄      134667\n",
      "麟光       113686\n",
      "龍山寺      930735\n",
      "Name: 人次, Length: 108, dtype: int64\n",
      "進站\n",
      "BL板橋    1134351\n",
      "七張       461390\n",
      "三和國中     342099\n",
      "三民高中     353404\n",
      "三重       128942\n",
      "         ...   \n",
      "頂埔       223090\n",
      "頂溪      1020959\n",
      "頭前庄      150921\n",
      "麟光       122222\n",
      "龍山寺      968113\n",
      "Name: 人次, Length: 108, dtype: int64\n"
     ]
    }
   ],
   "source": [
    "grouped_df = df.groupby([\"進站\", \"出站\"])\n",
    "\n",
    "# Add the values in the \"人次\" column for each group\n",
    "result = grouped_df[\"人次\"].sum()\n",
    "\n",
    "# Convert the result to a dictionary\n",
    "result_dict = result.to_dict()\n",
    "\n",
    "# print(result)\n",
    "result.to_excel('進站對出站統計.xlsx')\n",
    "result=pd.read_excel('進站對出站統計.xlsx')\n",
    "grouped_result=result.groupby([\"出站\"])\n",
    "result_2 = grouped_result[\"人次\"].sum()\n",
    "print(result_2)\n",
    "result_2.to_excel('出站統計.xlsx')\n",
    "#####################################################################\n",
    "grouped_df = df.groupby([\"出站\", \"進站\"])\n",
    "\n",
    "# Add the values in the \"人次\" column for each group\n",
    "result = grouped_df[\"人次\"].sum()\n",
    "\n",
    "# Convert the result to a dictionary\n",
    "result_dict = result.to_dict()\n",
    "\n",
    "# print(result)\n",
    "result.to_excel('出站對進站統計.xlsx')\n",
    "result=pd.read_excel('出站對進站統計.xlsx')\n",
    "grouped_result=result.groupby([\"進站\"])\n",
    "result_3 = grouped_result[\"人次\"].sum()\n",
    "print(result_3)\n",
    "result_3.to_excel('進站統計.xlsx')"
   ]
  },
  {
   "cell_type": "code",
   "execution_count": null,
   "id": "27594e56-e5c7-4857-8453-1f64fdb813f4",
   "metadata": {},
   "outputs": [
    {
     "data": {
      "text/plain": [
       "947"
      ]
     },
     "execution_count": 40,
     "metadata": {},
     "output_type": "execute_result"
    }
   ],
   "source": [
    "selected_rows = df.loc[(df[\"進站\"] == \"松山機場\") & (df[\"出站\"] == \"松山機場\")]\n",
    "\n",
    "# Add the values in the \"人次\" column for the selected rows\n",
    "result = selected_rows[\"人次\"].sum()\n",
    "result"
   ]
  },
  {
   "cell_type": "code",
   "execution_count": 21,
   "id": "1de499c2-3eaa-4369-984a-78fe4aeb99d7",
   "metadata": {},
   "outputs": [
    {
     "data": {
      "text/html": [
       "<div>\n",
       "<style scoped>\n",
       "    .dataframe tbody tr th:only-of-type {\n",
       "        vertical-align: middle;\n",
       "    }\n",
       "\n",
       "    .dataframe tbody tr th {\n",
       "        vertical-align: top;\n",
       "    }\n",
       "\n",
       "    .dataframe thead th {\n",
       "        text-align: right;\n",
       "    }\n",
       "</style>\n",
       "<table border=\"1\" class=\"dataframe\">\n",
       "  <thead>\n",
       "    <tr style=\"text-align: right;\">\n",
       "      <th></th>\n",
       "      <th>日期</th>\n",
       "      <th>時段</th>\n",
       "      <th>進站</th>\n",
       "      <th>出站</th>\n",
       "      <th>人次</th>\n",
       "    </tr>\n",
       "  </thead>\n",
       "  <tbody>\n",
       "    <tr>\n",
       "      <th>0</th>\n",
       "      <td>2017-01-01</td>\n",
       "      <td>0</td>\n",
       "      <td>松山機場</td>\n",
       "      <td>松山機場</td>\n",
       "      <td>0</td>\n",
       "    </tr>\n",
       "    <tr>\n",
       "      <th>1</th>\n",
       "      <td>2017-01-01</td>\n",
       "      <td>0</td>\n",
       "      <td>松山機場</td>\n",
       "      <td>中山國中</td>\n",
       "      <td>0</td>\n",
       "    </tr>\n",
       "    <tr>\n",
       "      <th>2</th>\n",
       "      <td>2017-01-01</td>\n",
       "      <td>0</td>\n",
       "      <td>松山機場</td>\n",
       "      <td>南京復興</td>\n",
       "      <td>0</td>\n",
       "    </tr>\n",
       "    <tr>\n",
       "      <th>3</th>\n",
       "      <td>2017-01-01</td>\n",
       "      <td>0</td>\n",
       "      <td>松山機場</td>\n",
       "      <td>忠孝復興</td>\n",
       "      <td>0</td>\n",
       "    </tr>\n",
       "    <tr>\n",
       "      <th>4</th>\n",
       "      <td>2017-01-01</td>\n",
       "      <td>0</td>\n",
       "      <td>松山機場</td>\n",
       "      <td>大安</td>\n",
       "      <td>0</td>\n",
       "    </tr>\n",
       "    <tr>\n",
       "      <th>...</th>\n",
       "      <td>...</td>\n",
       "      <td>...</td>\n",
       "      <td>...</td>\n",
       "      <td>...</td>\n",
       "      <td>...</td>\n",
       "    </tr>\n",
       "    <tr>\n",
       "      <th>7570039</th>\n",
       "      <td>2017-01-31</td>\n",
       "      <td>23</td>\n",
       "      <td>松山機場</td>\n",
       "      <td>徐匯中學</td>\n",
       "      <td>0</td>\n",
       "    </tr>\n",
       "    <tr>\n",
       "      <th>7570040</th>\n",
       "      <td>2017-01-31</td>\n",
       "      <td>23</td>\n",
       "      <td>松山機場</td>\n",
       "      <td>三和國中</td>\n",
       "      <td>1</td>\n",
       "    </tr>\n",
       "    <tr>\n",
       "      <th>7570041</th>\n",
       "      <td>2017-01-31</td>\n",
       "      <td>23</td>\n",
       "      <td>松山機場</td>\n",
       "      <td>三重國小</td>\n",
       "      <td>0</td>\n",
       "    </tr>\n",
       "    <tr>\n",
       "      <th>7570042</th>\n",
       "      <td>2017-01-31</td>\n",
       "      <td>23</td>\n",
       "      <td>松山機場</td>\n",
       "      <td>迴龍</td>\n",
       "      <td>2</td>\n",
       "    </tr>\n",
       "    <tr>\n",
       "      <th>7570043</th>\n",
       "      <td>2017-01-31</td>\n",
       "      <td>23</td>\n",
       "      <td>松山機場</td>\n",
       "      <td>丹鳳</td>\n",
       "      <td>5</td>\n",
       "    </tr>\n",
       "  </tbody>\n",
       "</table>\n",
       "<p>70200 rows × 5 columns</p>\n",
       "</div>"
      ],
      "text/plain": [
       "                 日期  時段    進站    出站  人次\n",
       "0        2017-01-01   0  松山機場  松山機場   0\n",
       "1        2017-01-01   0  松山機場  中山國中   0\n",
       "2        2017-01-01   0  松山機場  南京復興   0\n",
       "3        2017-01-01   0  松山機場  忠孝復興   0\n",
       "4        2017-01-01   0  松山機場    大安   0\n",
       "...             ...  ..   ...   ...  ..\n",
       "7570039  2017-01-31  23  松山機場  徐匯中學   0\n",
       "7570040  2017-01-31  23  松山機場  三和國中   1\n",
       "7570041  2017-01-31  23  松山機場  三重國小   0\n",
       "7570042  2017-01-31  23  松山機場    迴龍   2\n",
       "7570043  2017-01-31  23  松山機場    丹鳳   5\n",
       "\n",
       "[70200 rows x 5 columns]"
      ]
     },
     "execution_count": 21,
     "metadata": {},
     "output_type": "execute_result"
    }
   ],
   "source": [
    "df.loc[(df[\"進站\"]==\"松山機場\")]"
   ]
  },
  {
   "cell_type": "code",
   "execution_count": 6,
   "id": "1cdae338-0021-4ff0-9782-4e5461385157",
   "metadata": {},
   "outputs": [
    {
     "name": "stdout",
     "output_type": "stream",
     "text": [
      "Collecting openpyxl\n",
      "  Using cached openpyxl-3.0.10-py2.py3-none-any.whl (242 kB)\n",
      "Collecting et-xmlfile\n",
      "  Using cached et_xmlfile-1.1.0-py3-none-any.whl (4.7 kB)\n",
      "Installing collected packages: et-xmlfile, openpyxl\n",
      "Successfully installed et-xmlfile-1.1.0 openpyxl-3.0.10\n",
      "\u001b[33mWARNING: You are using pip version 22.0.4; however, version 22.3.1 is available.\n",
      "You should consider upgrading via the '/usr/local/bin/python3 -m pip install --upgrade pip' command.\u001b[0m\u001b[33m\n",
      "\u001b[0mNote: you may need to restart the kernel to use updated packages.\n"
     ]
    }
   ],
   "source": []
  },
  {
   "cell_type": "code",
   "execution_count": null,
   "id": "c9fd7b5c",
   "metadata": {},
   "outputs": [],
   "source": []
  }
 ],
 "metadata": {
  "kernelspec": {
   "display_name": "Python 3.10.3 64-bit",
   "language": "python",
   "name": "python3"
  },
  "language_info": {
   "codemirror_mode": {
    "name": "ipython",
    "version": 3
   },
   "file_extension": ".py",
   "mimetype": "text/x-python",
   "name": "python",
   "nbconvert_exporter": "python",
   "pygments_lexer": "ipython3",
   "version": "3.10.3"
  },
  "vscode": {
   "interpreter": {
    "hash": "aee8b7b246df8f9039afb4144a1f6fd8d2ca17a180786b69acc140d282b71a49"
   }
  }
 },
 "nbformat": 4,
 "nbformat_minor": 5
}
